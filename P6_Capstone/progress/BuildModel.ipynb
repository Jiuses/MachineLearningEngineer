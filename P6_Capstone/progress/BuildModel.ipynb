{
 "cells": [
  {
   "cell_type": "markdown",
   "metadata": {},
   "source": [
    "**目录**\n",
    "\n",
    "[toc]"
   ]
  },
  {
   "cell_type": "markdown",
   "metadata": {},
   "source": [
    "## MLND 毕业项目\n",
    "\n",
    "* 作者：RayZen\n",
    "* 日期：2018 年 6 月 5 日"
   ]
  },
  {
   "cell_type": "markdown",
   "metadata": {},
   "source": [
    "### Ⅰ. 问题定义\n",
    "\n",
    "**项目概述**\n",
    "\n",
    "`Rossmann` 是经营了超过 `3,000` 家遍布欧洲 `7` 个国家的公司。现在 `Rossmann` 经营者希望能够预测六周的每日销售情况，而它的销售情况收到多个因素影响，例如：促销、竞争对手、学校和国家节假日、季节性因素以及本地化等因素等的影响。因为根据每家店的管理者根据当地的实际情况进行了销售预测，预测结果的准确度差异太大。\n",
    "\n",
    "本次项目，`Rossmann` 的管理者希望能够通过提高预测的准确性来帮助他们更有效的做出工作计划，以及同时达到提高效率和机动性。对此，提出了需要增强预测的 **稳定性**，也就是说需要对经营额进行预测，这是一个连续性数据；`data` 是具有 `label` 的数据。从对数据初步探索可以，该数据集包括了 2013 年 1 月 1 日至 2015 年 7 月 31 日共计大约两年半的数据集，从下图可知：\n",
    "\n",
    "![](../img/moving_average_by_date.png)\n"
   ]
  },
  {
   "cell_type": "markdown",
   "metadata": {},
   "source": [
    "**问题陈述**\n",
    "\n",
    "本项目中提供的训练数据集由 `train.csv` 提供销售数据信息，`store.csv` 提供营业的商店信息。首先需要将两个数据文件进行整合为一个训练数据集。经验证，该数据集是一个具有 17 个 `features` 和 1 个 `label`，而且该 `label` 是一个连续型数据。那么也就证实了，在本项目中需要通过监督式学习来完成对项目分析。\n",
    "\n",
    "其次，在完成数据的基本探索分析后，需要对数据的某些 `feature` 的数据进行重新构建以及筛选。因为在本数据集的 `features` 大部分都是类别型数据，一方面需要将相关数据进行转换，用以表达相关信息；另一方面，初步探索中已经知道该数据是同时是一个时间序列类型数据，对这类数据在进行数据信息转换的同时需要考虑到时间分析的连续性，可能随机性不适用于该数据类型。\n",
    "\n",
    "最终的数据结果是能够获得稳定性高的预测测试数据的结果。另一方面，考虑到实际应用层面，希望最终的模型是可以被实际应用到现实中的场景中。例如，将该模型用到 `Rossmann` 的商店营业额预测，以帮助它们建立有效的工作计划，提到工作生产效率和机动性。\n"
   ]
  }
 ],
 "metadata": {
  "kernelspec": {
   "display_name": "Python 3",
   "language": "python",
   "name": "python3"
  },
  "language_info": {
   "codemirror_mode": {
    "name": "ipython",
    "version": 3
   },
   "file_extension": ".py",
   "mimetype": "text/x-python",
   "name": "python",
   "nbconvert_exporter": "python",
   "pygments_lexer": "ipython3",
   "version": "3.6.5"
  }
 },
 "nbformat": 4,
 "nbformat_minor": 2
}
